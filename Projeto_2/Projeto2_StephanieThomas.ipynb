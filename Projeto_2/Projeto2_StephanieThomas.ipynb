{
 "cells": [
  {
   "cell_type": "markdown",
   "metadata": {},
   "source": [
    "# Projeto 2 - Classificador Automático de Sentimento\n",
    "\n",
    "Você foi contratado por uma empresa parar analisar como os clientes estão reagindo a um determinado produto no Twitter. A empresa deseja que você crie um programa que irá analisar as mensagens disponíveis e classificará como \"relevante\" ou \"irrelevante\". Com isso ela deseja que mensagens negativas, que denigrem o nome do produto, ou que mereçam destaque, disparem um foco de atenção da área de marketing.<br /><br />\n",
    "Como aluno de Ciência dos Dados, você lembrou do Teorema de Bayes, mais especificamente do Classificador Naive-Bayes, que é largamente utilizado em filtros anti-spam de e-mails. O classificador permite calcular qual a probabilidade de uma mensagem ser relevante dadas as palavras em seu conteúdo.<br /><br />\n",
    "Para realizar o MVP (*minimum viable product*) do projeto, você precisa implementar uma versão do classificador que \"aprende\" o que é relevante com uma base de treinamento e compara a performance dos resultados com uma base de testes.<br /><br />\n",
    "Após validado, o seu protótipo poderá também capturar e classificar automaticamente as mensagens da plataforma.\n",
    "\n",
    "## Informações do Projeto\n",
    "\n",
    "Prazo: 13/Set até às 23:59.<br />\n",
    "Grupo: 1 ou 2 pessoas.<br /><br />\n",
    "Entregáveis via GitHub: \n",
    "* Arquivo notebook com o código do classificador, seguindo as orientações abaixo.\n",
    "* Arquivo Excel com as bases de treinamento e teste totalmente classificado.\n",
    "\n",
    "**NÃO disponibilizar o arquivo com os *access keys/tokens* do Twitter.**\n",
    "\n",
    "\n",
    "### Check 3: \n",
    "\n",
    "Até o dia 06 de Setembro às 23:59, o notebook e o xlsx devem estar no Github com as seguintes evidências: \n",
    "    * Conta no twitter criada.\n",
    "    * Produto escolhido.\n",
    "    * Arquivo Excel contendo a base de treinamento e teste já classificado.\n",
    "    \n",
    "\n",
    "Sugestão de leitura:<br />\n",
    "http://docs.tweepy.org/en/v3.5.0/index.html<br />\n",
    "https://monkeylearn.com/blog/practical-explanation-naive-bayes-classifier/"
   ]
  },
  {
   "cell_type": "markdown",
   "metadata": {},
   "source": [
    "___\n",
    "\n",
    "## Preparando o ambiente\n",
    "\n",
    "Instalando a biblioteca *tweepy* para realizar a conexão com o Twitter:"
   ]
  },
  {
   "cell_type": "code",
   "execution_count": null,
   "metadata": {
    "collapsed": true
   },
   "outputs": [],
   "source": [
    "%%capture\n",
    "\n",
    "#Instalando o tweepy\n",
    "!pip install tweepy"
   ]
  },
  {
   "cell_type": "markdown",
   "metadata": {},
   "source": [
    "Importando as Bibliotecas que serão utilizadas. Esteja livre para adicionar outras."
   ]
  },
  {
   "cell_type": "code",
   "execution_count": 1,
   "metadata": {
    "collapsed": true
   },
   "outputs": [],
   "source": [
    "import tweepy\n",
    "import math\n",
    "import os.path\n",
    "import pandas as pd\n",
    "import json\n",
    "from random import shuffle"
   ]
  },
  {
   "cell_type": "markdown",
   "metadata": {},
   "source": [
    "___\n",
    "## Autenticando no  Twitter\n",
    "\n",
    "Para realizar a captura dos dados é necessário ter uma conta cadastrada no twitter:\n",
    "\n",
    "* Conta: ***[Preencha aqui o id da sua conta. Ex: @fulano ]***\n",
    "\n",
    "\n",
    "1. Caso ainda não tenha uma: https://twitter.com/signup\n",
    "1. Depois é necessário registrar um app para usar a biblioteca: https://apps.twitter.com/\n",
    "1. Dentro do registro do App, na aba Keys and Access Tokens, anotar os seguintes campos:\n",
    "    1. Consumer Key (API Key)\n",
    "    1. Consumer Secret (API Secret)\n",
    "1. Mais abaixo, gere um Token e anote também:\n",
    "    1. Access Token\n",
    "    1. Access Token Secret\n",
    "    \n",
    "1. Preencha os valores no arquivo \"auth.pass\"\n",
    "\n",
    "**ATENÇÃO**: Nunca divulgue os dados desse arquivo online (GitHub, etc). Ele contém as chaves necessárias para realizar as operações no twitter de forma automática e portanto é equivalente a ser \"hackeado\". De posse desses dados, pessoas mal intencionadas podem fazer todas as operações manuais (tweetar, seguir, bloquear/desbloquear, listar os seguidores, etc). Para efeito do projeto, esse arquivo não precisa ser entregue!!!"
   ]
  },
  {
   "cell_type": "code",
   "execution_count": null,
   "metadata": {
    "collapsed": true
   },
   "outputs": [],
   "source": [
    "#Dados de autenticação do twitter:\n",
    "\n",
    "#Coloque aqui o identificador da conta no twitter: @fulano\n",
    "\n",
    "#leitura do arquivo no formato JSON\n",
    "with open('auth.pass') as fp:    \n",
    "    data = json.load(fp)\n",
    "\n",
    "#Configurando a biblioteca. Não modificar\n",
    "auth = tweepy.OAuthHandler(data['consumer_key'], data['consumer_secret'])\n",
    "auth.set_access_token(data['access_token'], data['access_token_secret'])"
   ]
  },
  {
   "cell_type": "markdown",
   "metadata": {},
   "source": [
    "___\n",
    "## Coletando Dados\n",
    "\n",
    "Agora vamos coletar os dados. Tenha em mente que dependendo do produto escolhido, não haverá uma quantidade significativa de mensagens, ou ainda poder haver muitos retweets.<br /><br /> \n",
    "Configurando:"
   ]
  },
  {
   "cell_type": "code",
   "execution_count": null,
   "metadata": {
    "collapsed": true
   },
   "outputs": [],
   "source": [
    "#Produto escolhido:\n",
    "produto = 'LATAM'\n",
    "\n",
    "#Quantidade mínima de mensagens capturadas:\n",
    "n = 500\n",
    "#Quantidade mínima de mensagens para a base de treinamento:\n",
    "t = 300\n",
    "\n",
    "#Filtro de língua, escolha uma na tabela ISO 639-1.\n",
    "lang = 'pt'"
   ]
  },
  {
   "cell_type": "markdown",
   "metadata": {},
   "source": [
    "Capturando os dados do twitter:"
   ]
  },
  {
   "cell_type": "code",
   "execution_count": null,
   "metadata": {
    "collapsed": true
   },
   "outputs": [],
   "source": [
    "#Cria um objeto para a captura\n",
    "api = tweepy.API(auth)\n",
    "\n",
    "#Inicia a captura, para mais detalhes: ver a documentação do tweepy\n",
    "i = 1\n",
    "msgs = []\n",
    "for msg in tweepy.Cursor(api.search, q=produto, lang=lang).items():    \n",
    "    msgs.append(msg.text.lower())\n",
    "    i += 1\n",
    "    if i > n:\n",
    "        break\n",
    "\n",
    "#Embaralhando as mensagens para reduzir um possível viés\n",
    "shuffle(msgs)"
   ]
  },
  {
   "cell_type": "markdown",
   "metadata": {},
   "source": [
    "Salvando os dados em uma planilha Excel:"
   ]
  },
  {
   "cell_type": "code",
   "execution_count": null,
   "metadata": {
    "collapsed": true
   },
   "outputs": [],
   "source": [
    "#Verifica se o arquivo não existe para não substituir um conjunto pronto\n",
    "if not os.path.isfile('./{0}.xlsx'.format(produto)):\n",
    "    \n",
    "    #Abre o arquivo para escrita\n",
    "    writer = pd.ExcelWriter('{0}.xlsx'.format(produto))\n",
    "\n",
    "    #divide o conjunto de mensagens em duas planilhas\n",
    "    dft = pd.DataFrame({'Treinamento' : pd.Series(msgs[:t])})\n",
    "    dft.to_excel(excel_writer = writer, sheet_name = 'Treinamento', index = False)\n",
    "\n",
    "    dfc = pd.DataFrame({'Teste' : pd.Series(msgs[t:])})\n",
    "    dfc.to_excel(excel_writer = writer, sheet_name = 'Teste', index = False)\n",
    "\n",
    "    #fecha o arquivo\n",
    "    writer.save()"
   ]
  },
  {
   "cell_type": "markdown",
   "metadata": {},
   "source": [
    "___\n",
    "## Classificando as Mensagens\n",
    "\n",
    "Agora você deve abrir o arquivo Excel com as mensagens capturadas e classificar na Coluna B se a mensagem é relevante ou não.<br /> \n",
    "Não se esqueça de colocar um nome para a coluna na célula **B1**.<br /><br />\n",
    "Fazer o mesmo na planilha de Controle.\n",
    "\n",
    "___\n",
    "## Montando o Classificador Naive-Bayes\n",
    "\n",
    "Com a base de treinamento montada, comece a desenvolver o classificador. Escreva o seu código abaixo:\n",
    "\n",
    "Opcionalmente: \n",
    "* Limpar as mensagens removendo os caracteres: enter, :, \", ', (, ), etc. Não remover emojis.<br />\n",
    "* Corrigir separação de espaços entre palavras e/ou emojis.\n",
    "* Propor outras limpezas/transformações que não afetem a qualidade da informação.\n",
    "\n"
   ]
  },
  {
   "cell_type": "code",
   "execution_count": 2,
   "metadata": {},
   "outputs": [],
   "source": [
    "# ABRINDO O EXCEL DE TREINAMENTO PARA O CLASSIFICADOR\n",
    "\n",
    "excel_latam = pd.read_excel('Treinamento.xlsx')"
   ]
  },
  {
   "cell_type": "code",
   "execution_count": 3,
   "metadata": {
    "collapsed": true
   },
   "outputs": [],
   "source": [
    "relevantes = excel_latam[excel_latam.Relev==1] #Criando um DataFrame só com os tweets relevantes\n",
    "irrelevantes = excel_latam[excel_latam.Relev==0] #Criando um DataFrame só com os tweets irrelevantes"
   ]
  },
  {
   "cell_type": "code",
   "execution_count": 4,
   "metadata": {},
   "outputs": [],
   "source": [
    "# FILTRANDO TODAS PALAVRAS NOS TWEETS RELEVANTES COM E SEM REPETIÇÃO\n",
    "\n",
    "lista_relevantes = [] #lista de todas palavras nos tweets relevantes\n",
    "nao_repetidas_relevantes = [] #lista de palavras nos tweets relevantes sem repetição\n",
    "remover=[\"!\", \";\", \"@\", \".\", \",\", \"'\",\"?\", \"#\"] #lista de caracteres indesejados para nosso modelo remover\n",
    "\n",
    "for i in relevantes.Tweets: #código qu adiciona todas palavras em uma lista das palavras relevantes\n",
    "    a=i.split()\n",
    "    for j in a:\n",
    "        r=list(j)\n",
    "        for u in r:\n",
    "            if u in remover:\n",
    "                r.remove(u)\n",
    "        e=''.join(r)\n",
    "        lista_relevantes.append(e)\n",
    "        \n",
    "        \n",
    "for t in lista_relevantes: #código que adiciona todas palavras encontradas relevantes em uma lista, porém SEM repetição\n",
    "    if t not in nao_repetidas_relevantes:\n",
    "        nao_repetidas_relevantes.append(t)\n",
    "        \n",
    "numero_nao_repetidas_relevantes=len(nao_repetidas_relevantes) #definindo o espaço amostral das palavras relevantes"
   ]
  },
  {
   "cell_type": "code",
   "execution_count": 5,
   "metadata": {},
   "outputs": [],
   "source": [
    "# FILTRANDO TODAS PALAVRAS NOS TWEETS IRRELEVANTES COM E SEM REPETIÇÃO\n",
    "\n",
    "lista_irrelevantes = [] #lista de todas palavras nos tweets irrelevantes\n",
    "nao_repetidas_irrelevantes = [] #lista de palavras nos tweets irrelevantes sem repetição\n",
    "\n",
    "for i in irrelevantes.Tweets: #código que adiciona todas palavras em uma lista das palavras irrelevantes\n",
    "    a=i.split()\n",
    "    for j in a:\n",
    "        r=list(j)\n",
    "        for u in r:\n",
    "            if u in remover:\n",
    "                r.remove(u)\n",
    "        e=''.join(r)\n",
    "        lista_irrelevantes.append(e)\n",
    "                \n",
    "for t in lista_irrelevantes:  #código que adiciona todas palavras irrelevantes encontradas em uma lista, porém SEM repetição\n",
    "    if t not in nao_repetidas_irrelevantes:\n",
    "        nao_repetidas_irrelevantes.append(t)\n",
    "        \n",
    "numero_nao_repetidas_irrelevantes=len(nao_repetidas_irrelevantes) #definindo o espaço amostral das palavras irrelevantes"
   ]
  },
  {
   "cell_type": "code",
   "execution_count": 6,
   "metadata": {},
   "outputs": [],
   "source": [
    "# CONTAGEM DE PALAVRAS NO TOTAL PARA CASOS RELEVANTES E IRRELEVANTES\n",
    "\n",
    "palavras_total = [] #lista de todas palavras nos tweets\n",
    "palavras_nao_repetidas = [] #lista de palavras nos tweets sem repetição\n",
    "\n",
    "for i in excel_latam.Tweets: #código que adiciona todas palavras em uma lista das palavras\n",
    "    a=i.split()\n",
    "    for j in a:\n",
    "        r=list(j)\n",
    "        for u in r:\n",
    "            if u in remover:\n",
    "                r.remove(u)\n",
    "        e=''.join(r)\n",
    "        palavras_total.append(e)\n",
    "                \n",
    "for t in palavras_total: #código que adiciona todas palavras encontradas em uma lista, porém SEM repetição\n",
    "    if t not in palavras_nao_repetidas:\n",
    "        palavras_nao_repetidas.append(t)\n",
    "        \n",
    "numero_nao_repetidas=len(palavras_nao_repetidas)"
   ]
  },
  {
   "cell_type": "code",
   "execution_count": 7,
   "metadata": {
    "collapsed": true
   },
   "outputs": [],
   "source": [
    "# DEFININDO A FUNÇÃO QUE CALCULA PROBABILIDADE, RECEBENDO UMA FRASE (TWEET) COMO PARÂMETRO\n",
    "# A FUNÇÃO RETORNA \"RELEVANTE\" SE A PROBABILIDADE DO TWEET SER RELEVANTE FOR MAIOR DO QUE A PROBABILIDADE SE FOR IRRELEVANTE\n",
    "# A FUNÇÃO RETORNA \"IRRELEVANTE\" SE A PROBABILIDADE DO TWEET SER IRRELEVANTE FOR MAIOR DO QUE A PROBABILIDADE SE FOR RELEVANTE\n",
    "\n",
    "def prob(frase):\n",
    "    lista_pr = []\n",
    "    lista_pi = []\n",
    "    probrel=1\n",
    "    probirrel=1\n",
    "    somar=0\n",
    "    somai=0\n",
    "    split=frase.split()\n",
    "    for i in split:\n",
    "        if i in lista_relevantes:\n",
    "            somar+=1\n",
    "        pr=(1+somar)/(numero_nao_repetidas+numero_nao_repetidas_relevantes)\n",
    "        lista_pr.append(pr)\n",
    "    for y in range(len(lista_pr)):\n",
    "        probrel=probrel*lista_pr[y]\n",
    "    \n",
    "    for f in split:\n",
    "        if f in lista_irrelevantes:\n",
    "            somai+=1\n",
    "        pi=(1+somai)/(numero_nao_repetidas+numero_nao_repetidas_irrelevantes)\n",
    "        lista_pi.append(pi)\n",
    "    for w in range(len(lista_pi)):\n",
    "        probirrel=probirrel*lista_pi[w]\n",
    "        \n",
    "    if probrel > probirrel:\n",
    "        return \"Relevante\"\n",
    "    elif probrel < probirrel:\n",
    "        return \"Irrelevante\""
   ]
  },
  {
   "cell_type": "markdown",
   "metadata": {},
   "source": [
    "___\n",
    "## Verificando a performance\n",
    "\n",
    "Agora você deve testar o seu Classificador com a base de Testes.<br /><br /> \n",
    "\n",
    "Você deve extrair as seguintes medidas:\n",
    "* Porcentagem de positivos falsos (marcados como relevante mas não são relevantes)\n",
    "* Porcentagem de positivos verdadeiros (marcado como relevante e são relevantes)\n",
    "* Porcentagem de negativos verdadeiros (marcado como não relevante e não são relevantes)\n",
    "* Porcentagem de negativos falsos (marcado como não relevante e são relevantes)\n",
    "\n",
    "Opcionalmente:\n",
    "* Criar categorias intermediárias de relevância baseado na diferença de probabilidades. Exemplo: muito relevante, relevante, neutro, irrelevante e muito irrelevante."
   ]
  },
  {
   "cell_type": "code",
   "execution_count": 8,
   "metadata": {
    "collapsed": true
   },
   "outputs": [],
   "source": [
    "# ABRINDO O EXCEL DE TESTE PARA TESTAR O CLASSIFICADOR\n",
    "excel_teste = pd.read_excel('Teste.xlsx')\n",
    "\n",
    "# CRIANDO UM DATAFRAME SÓ COM OS TWEETS E OUTRO DATAFRAME SÓ COM A RELEVÂNCIA\n",
    "\n",
    "teste_tweets=pd.DataFrame(excel_teste.loc[:,[\"Teste\"]])\n",
    "teste_relev=pd.DataFrame(excel_teste.loc[:,[\"Relev\"]])"
   ]
  },
  {
   "cell_type": "code",
   "execution_count": 11,
   "metadata": {},
   "outputs": [],
   "source": [
    "# CRIANDO A FUNÇÃO QUE PEGA TODOS TWEETS E PASSA UM A UM EM LOOP NO CLASSIFICADOR, ARMAZENA SE O CLASSIFICADOR ACERTOU OU ERROU\n",
    "# E IDENTIFICA O TIPO DE ACERTO E O TIPO DE ERRO (POSITIVO FALSO, NEGATIVO VERDADEIRO, ETC...) E CALCULA A PORCENTAGEM DE CADA\n",
    "# UM DESSES PARÂMETROS, ALÉM DE RETORNAR A SOMA DOS ACERTOS E DOS ERROS DO CLASSIFICADOR\n",
    "\n",
    "def acertos():\n",
    "    somapv = 0\n",
    "    somapf=0\n",
    "    somanv=0\n",
    "    somanf=0\n",
    "    relev=[]\n",
    "    lista_teste_tweets=[]\n",
    "    for u in teste_relev.Relev:\n",
    "        relev.append(u)\n",
    "    for j in teste_tweets.Teste:\n",
    "        lista_teste_tweets.append(prob(j))\n",
    "    for y in range(len(relev)):\n",
    "        if relev[y]==1:\n",
    "            if lista_teste_tweets[y]==\"Relevante\":\n",
    "                somapv+=1\n",
    "            if lista_teste_tweets[y]==\"Irrelevante\":\n",
    "                somanf+=1\n",
    "        if relev[y]==0:\n",
    "            if lista_teste_tweets[y]==\"Relevante\":\n",
    "                somapf+=1\n",
    "            if lista_teste_tweets[y]==\"Irrelevante\":\n",
    "                somanv+=1\n",
    "    probpv=((somapv/200)*100)\n",
    "    probpf=((somapf/200)*100)\n",
    "    probnv=((somanv/200)*100)\n",
    "    probnf=((somanf/200)*100)\n",
    "    proba=probpv+probnv\n",
    "    probe=probpf+probnf\n",
    "    \n",
    "    return probpv, probpf, probnv, probnf, proba, probe"
   ]
  },
  {
   "cell_type": "code",
   "execution_count": 13,
   "metadata": {},
   "outputs": [
    {
     "data": {
      "text/plain": [
       "(16.0, 42.5, 41.5, 0.0, 57.5, 42.5)"
      ]
     },
     "execution_count": 13,
     "metadata": {},
     "output_type": "execute_result"
    }
   ],
   "source": [
    "# RODANDO A FUNÇÃO ACERTOS\n",
    "\n",
    "acertos()"
   ]
  },
  {
   "cell_type": "markdown",
   "metadata": {
    "collapsed": true,
    "scrolled": true
   },
   "source": [
    "### Porcentagem de positivos verdadeiros: 16%\n",
    "### Porcentagem de positivos falsos: 42,5%\n",
    "### Porcentagem de negativos verdadeiros: 41,5%\n",
    "### Porcentagem de negativos falsos: 0%\n",
    "\n",
    "\n",
    "### Total de acertos: 57,5%\n",
    "### Total de erros: 42,5%"
   ]
  },
  {
   "cell_type": "markdown",
   "metadata": {
    "collapsed": true
   },
   "source": [
    "___\n",
    "## Concluindo\n",
    "\n",
    "Escreva aqui a sua conclusão.<br /> \n",
    "Faça um comparativo qualitativo sobre as medidas obtidas.<br />\n",
    "Explique como são tratadas as mensagens com dupla negação e sarcasmo.<br />\n",
    "Proponha um plano de expansão. Por que eles devem continuar financiando o seu projeto?<br />\n",
    "\n",
    "Opcionalmente: \n",
    "* Discorrer por que não posso alimentar minha base de Treinamento automaticamente usando o próprio classificador, aplicado a novos tweets.\n",
    "* Propor diferentes cenários de uso para o classificador Naive-Bayes. Cenários sem intersecção com este projeto.\n",
    "* Sugerir e explicar melhorias reais no classificador com indicações concretas de como implementar (não é preciso codificar, mas indicar como fazer e material de pesquisa sobre o assunto).\n"
   ]
  },
  {
   "cell_type": "markdown",
   "metadata": {},
   "source": []
  }
 ],
 "metadata": {
  "kernelspec": {
   "display_name": "Python 3",
   "language": "python",
   "name": "python3"
  },
  "language_info": {
   "codemirror_mode": {
    "name": "ipython",
    "version": 3
   },
   "file_extension": ".py",
   "mimetype": "text/x-python",
   "name": "python",
   "nbconvert_exporter": "python",
   "pygments_lexer": "ipython3",
   "version": "3.6.1"
  }
 },
 "nbformat": 4,
 "nbformat_minor": 1
}
