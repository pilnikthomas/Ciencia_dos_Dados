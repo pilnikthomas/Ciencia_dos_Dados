{
 "cells": [
  {
   "cell_type": "markdown",
   "metadata": {},
   "source": [
    "___\n",
    "# Ciência dos Dados - PROJETO 1"
   ]
  },
  {
   "cell_type": "markdown",
   "metadata": {},
   "source": [
    "## THOMAS PILNIK\n",
    "___"
   ]
  },
  {
   "cell_type": "markdown",
   "metadata": {},
   "source": [
    "## Análise da distribuição de internet no Brasil entre 2013 e 2015"
   ]
  },
  {
   "cell_type": "markdown",
   "metadata": {},
   "source": [
    "___\n",
    "## Introdução\n",
    "\n",
    "Nas sociedades modernas difundir o conhecimento significa compartilhar o poder e, o acesso à informação é um direito de todos os cidadãos e um bom indicador do nível de desenvolvimento das sociedades. O compartilhamento das informações que é assegurado pelo acesso à internetsão condições bastante significativas que contribuem para a melhoria de vida dos cidadãos.\n",
    "\n",
    "O objetivo desta análise é identificar qual o perfil de cidadãos/domicílios que possuem acesso a estas tecnologias e em qual velocidade estes serviços estão sendo cada vez mais utlizados pelos cidadãos/domicílios em cada uma das regiões do Brasil."
   ]
  },
  {
   "cell_type": "markdown",
   "metadata": {},
   "source": [
    "___\n",
    "## Análise e Resultados"
   ]
  },
  {
   "cell_type": "code",
   "execution_count": 1,
   "metadata": {
    "collapsed": true
   },
   "outputs": [],
   "source": [
    "%matplotlib inline\n",
    "import pandas as pd\n",
    "import matplotlib.pyplot as plt\n",
    "import numpy as np\n",
    "import os"
   ]
  },
  {
   "cell_type": "code",
   "execution_count": 2,
   "metadata": {},
   "outputs": [
    {
     "name": "stdout",
     "output_type": "stream",
     "text": [
      "Esperamos trabalhar no diretório\n",
      "C:\\Users\\Thomas Pilnik\\Ciência dos Dados\\Projeto1\n"
     ]
    }
   ],
   "source": [
    "print('Esperamos trabalhar no diretório')\n",
    "print(os.getcwd())"
   ]
  },
  {
   "cell_type": "code",
   "execution_count": 3,
   "metadata": {
    "collapsed": true
   },
   "outputs": [],
   "source": [
    "pnad13 = pd.read_csv('DOM2013.csv',sep=',')\n",
    "pnad14 = pd.read_csv('DOM2014.csv',sep=',')\n",
    "pnad15 = pd.read_csv('DOM2015.csv',sep=',')"
   ]
  },
  {
   "cell_type": "code",
   "execution_count": 4,
   "metadata": {
    "collapsed": true
   },
   "outputs": [],
   "source": [
    "pnad15.UF=pnad15.UF.astype('category')\n",
    "pnad15.UF.cat.categories=(['Rondônia', 'Acre', 'Amazonas', 'Roraima', 'Pará', 'Amapá', 'Tocantins', 'Maranhão', 'Piauí', 'Ceará', 'Rio Grande do Norte', 'Paraíba', 'Pernambuco', 'Alagoas', 'Sergipe', 'Bahia', 'Minas Gerais', 'Espírito Santo', 'Rio de Janeiro', 'São Paulo', 'Paraná', 'Santa Catarina', 'Rio Grande do Sul', 'Mato Grosso do Sul', 'Mato Grosso', 'Goiás', 'Distrito Federal'])"
   ]
  },
  {
   "cell_type": "code",
   "execution_count": 5,
   "metadata": {
    "collapsed": true
   },
   "outputs": [],
   "source": [
    "pnad13.V4621=pnad13.V4621.astype('float')\n",
    "pnad14.V4621=pnad14.V4621.astype('float')\n",
    "pnad15.V4621=pnad15.V4621.astype('float')"
   ]
  },
  {
   "cell_type": "code",
   "execution_count": 6,
   "metadata": {
    "collapsed": true
   },
   "outputs": [],
   "source": [
    "pnad13.V02322=pnad13.V02322.astype('category')\n",
    "pnad14.V02322=pnad14.V02322.astype('category')\n",
    "pnad15.V02322=pnad15.V02322.astype('category')\n",
    "pnad13.V02322.cat.categories=(['Sim', 'Não'])\n",
    "pnad14.V02322.cat.categories=(['Sim', 'Não'])\n",
    "pnad15.V02322.cat.categories=(['Sim', 'Não'])"
   ]
  },
  {
   "cell_type": "code",
   "execution_count": 7,
   "metadata": {
    "collapsed": true
   },
   "outputs": [],
   "source": [
    "pnad13.V02324=pnad13.V02324.astype('category')\n",
    "pnad14.V02324=pnad14.V02324.astype('category')\n",
    "pnad15.V02324=pnad15.V02324.astype('category')\n",
    "pnad13.V02324.cat.categories=(['Sim', 'Não'])\n",
    "pnad14.V02324.cat.categories=(['Sim', 'Não'])\n",
    "pnad15.V02324.cat.categories=(['Sim', 'Não'])"
   ]
  },
  {
   "cell_type": "code",
   "execution_count": 8,
   "metadata": {
    "collapsed": true
   },
   "outputs": [],
   "source": [
    "pnad13.V02323=pnad13.V02323.astype('category')\n",
    "pnad14.V02323=pnad14.V02323.astype('category')\n",
    "pnad15.V02323=pnad15.V02323.astype('category')\n",
    "pnad13.V02323.cat.categories=(['Sim', 'Não'])\n",
    "pnad14.V02323.cat.categories=(['Sim', 'Não'])\n",
    "pnad15.V02323.cat.categories=(['Sim', 'Não'])"
   ]
  },
  {
   "cell_type": "code",
   "execution_count": 9,
   "metadata": {
    "collapsed": true
   },
   "outputs": [],
   "source": [
    "pnad13.V0226=pnad13.V0226.astype('category')\n",
    "pnad14.V0226=pnad14.V0226.astype('category')\n",
    "pnad15.V0226=pnad15.V0226.astype('category')\n",
    "pnad13.V0226.cat.categories=(['Sim', 'Não'])\n",
    "pnad14.V0226.cat.categories=(['Sim', 'Não'])\n",
    "pnad15.V0226.cat.categories=(['Sim', 'Não'])"
   ]
  },
  {
   "cell_type": "code",
   "execution_count": 10,
   "metadata": {
    "collapsed": true
   },
   "outputs": [],
   "source": [
    "pnad13.V02272=pnad13.V02272.astype('category')\n",
    "pnad14.V02272=pnad14.V02272.astype('category')\n",
    "pnad15.V02272=pnad15.V02272.astype('category')\n",
    "pnad13.V02272.cat.categories=(['Sim', 'Não'])\n",
    "pnad14.V02272.cat.categories=(['Sim', 'Não'])\n",
    "pnad15.V02272.cat.categories=(['Sim', 'Não'])"
   ]
  },
  {
   "cell_type": "code",
   "execution_count": 11,
   "metadata": {
    "collapsed": true
   },
   "outputs": [],
   "source": [
    "pnad13.V4622=pnad13.V4622.astype('category')\n",
    "pnad14.V4622=pnad14.V4622.astype('category')\n",
    "pnad15.V4622=pnad15.V4622.astype('category')\n",
    "\n",
    "pnad13.V4622.cat.categories=([\"S/R\",\"0.25 min\", '0.25 a 0.5 min', '0.5 a 1 min', '1 a 2 min', '2 a 3 min', '3 a 5 min', '+5 min', 'N/D'])\n",
    "pnad14.V4622.cat.categories=([\"S/R\",\"0.25 min\", '0.25 a 0.5 min', '0.5 a 1 min', '1 a 2 min', '2 a 3 min', '3 a 5 min', '+5 min', 'N/D'])"
   ]
  },
  {
   "cell_type": "code",
   "execution_count": 12,
   "metadata": {
    "collapsed": true
   },
   "outputs": [],
   "source": [
    "pnad13_total_internet_domicilio=pnad13.V02322\n",
    "pnad14_total_internet_domicilio=pnad14.V02322\n",
    "pnad15_total_internet_domicilio=pnad15.V02322"
   ]
  },
  {
   "cell_type": "code",
   "execution_count": 13,
   "metadata": {},
   "outputs": [],
   "source": [
    "#pnad13_total_internet_domicilio.value_counts(True)"
   ]
  },
  {
   "cell_type": "code",
   "execution_count": 14,
   "metadata": {},
   "outputs": [],
   "source": [
    "#pnad14_total_internet_domicilio.value_counts(True)"
   ]
  },
  {
   "cell_type": "code",
   "execution_count": 15,
   "metadata": {},
   "outputs": [],
   "source": [
    "#pnad15_total_internet_domicilio.value_counts(True)"
   ]
  },
  {
   "cell_type": "code",
   "execution_count": 16,
   "metadata": {},
   "outputs": [
    {
     "data": {
      "text/html": [
       "<div>\n",
       "<style>\n",
       "    .dataframe thead tr:only-child th {\n",
       "        text-align: right;\n",
       "    }\n",
       "\n",
       "    .dataframe thead th {\n",
       "        text-align: left;\n",
       "    }\n",
       "\n",
       "    .dataframe tbody tr th {\n",
       "        vertical-align: top;\n",
       "    }\n",
       "</style>\n",
       "<table border=\"1\" class=\"dataframe\">\n",
       "  <thead>\n",
       "    <tr style=\"text-align: right;\">\n",
       "      <th></th>\n",
       "      <th>UF</th>\n",
       "      <th>Internet/Dom</th>\n",
       "      <th>Celular</th>\n",
       "      <th>Web no Cel.</th>\n",
       "      <th>Web no PC.</th>\n",
       "      <th>TV cores</th>\n",
       "      <th>TV assinatura</th>\n",
       "      <th>Rend. men. per/cap sal. mín.</th>\n",
       "    </tr>\n",
       "  </thead>\n",
       "  <tbody>\n",
       "    <tr>\n",
       "      <th>0</th>\n",
       "      <td>11</td>\n",
       "      <td>NaN</td>\n",
       "      <td>NaN</td>\n",
       "      <td>NaN</td>\n",
       "      <td>NaN</td>\n",
       "      <td>NaN</td>\n",
       "      <td>NaN</td>\n",
       "      <td>NaN</td>\n",
       "    </tr>\n",
       "    <tr>\n",
       "      <th>1</th>\n",
       "      <td>11</td>\n",
       "      <td>NaN</td>\n",
       "      <td>NaN</td>\n",
       "      <td>NaN</td>\n",
       "      <td>NaN</td>\n",
       "      <td>NaN</td>\n",
       "      <td>NaN</td>\n",
       "      <td>NaN</td>\n",
       "    </tr>\n",
       "    <tr>\n",
       "      <th>2</th>\n",
       "      <td>11</td>\n",
       "      <td>Não</td>\n",
       "      <td>2.0</td>\n",
       "      <td>NaN</td>\n",
       "      <td>NaN</td>\n",
       "      <td>Sim</td>\n",
       "      <td>Não</td>\n",
       "      <td>0.5 a 1 min</td>\n",
       "    </tr>\n",
       "    <tr>\n",
       "      <th>3</th>\n",
       "      <td>11</td>\n",
       "      <td>Não</td>\n",
       "      <td>2.0</td>\n",
       "      <td>NaN</td>\n",
       "      <td>NaN</td>\n",
       "      <td>Não</td>\n",
       "      <td>NaN</td>\n",
       "      <td>0.25 a 0.5 min</td>\n",
       "    </tr>\n",
       "    <tr>\n",
       "      <th>4</th>\n",
       "      <td>11</td>\n",
       "      <td>Não</td>\n",
       "      <td>2.0</td>\n",
       "      <td>NaN</td>\n",
       "      <td>NaN</td>\n",
       "      <td>Sim</td>\n",
       "      <td>Não</td>\n",
       "      <td>0.25 a 0.5 min</td>\n",
       "    </tr>\n",
       "  </tbody>\n",
       "</table>\n",
       "</div>"
      ],
      "text/plain": [
       "   UF Internet/Dom  Celular Web no Cel. Web no PC. TV cores TV assinatura  \\\n",
       "0  11          NaN      NaN         NaN        NaN      NaN           NaN   \n",
       "1  11          NaN      NaN         NaN        NaN      NaN           NaN   \n",
       "2  11          Não      2.0         NaN        NaN      Sim           Não   \n",
       "3  11          Não      2.0         NaN        NaN      Não           NaN   \n",
       "4  11          Não      2.0         NaN        NaN      Sim           Não   \n",
       "\n",
       "  Rend. men. per/cap sal. mín.  \n",
       "0                          NaN  \n",
       "1                          NaN  \n",
       "2                  0.5 a 1 min  \n",
       "3               0.25 a 0.5 min  \n",
       "4               0.25 a 0.5 min  "
      ]
     },
     "execution_count": 16,
     "metadata": {},
     "output_type": "execute_result"
    }
   ],
   "source": [
    "pnad13_dataframe= pd.DataFrame(pnad13.loc[:, [\"UF\", \"V02322\",\"V0220\", \"V02324\", \"V02323\", \"V0226\", \"V02272\", \"V4622\"]])\n",
    "pnad13_dataframe.columns = [\"UF\", \"Internet/Dom\", \"Celular\", \"Web no Cel.\", \"Web no PC.\", \"TV cores\", \"TV assinatura\", \"Rend. men. per/cap sal. mín.\"]\n",
    "pnad13_dataframe.head()"
   ]
  },
  {
   "cell_type": "code",
   "execution_count": 17,
   "metadata": {},
   "outputs": [
    {
     "data": {
      "text/html": [
       "<div>\n",
       "<style>\n",
       "    .dataframe thead tr:only-child th {\n",
       "        text-align: right;\n",
       "    }\n",
       "\n",
       "    .dataframe thead th {\n",
       "        text-align: left;\n",
       "    }\n",
       "\n",
       "    .dataframe tbody tr th {\n",
       "        vertical-align: top;\n",
       "    }\n",
       "</style>\n",
       "<table border=\"1\" class=\"dataframe\">\n",
       "  <thead>\n",
       "    <tr style=\"text-align: right;\">\n",
       "      <th></th>\n",
       "      <th>UF</th>\n",
       "      <th>Internet/Dom</th>\n",
       "      <th>Celular</th>\n",
       "      <th>Web no Cel.</th>\n",
       "      <th>Web no PC.</th>\n",
       "      <th>TV cores</th>\n",
       "      <th>TV assinatura</th>\n",
       "      <th>Rend. men. per/cap sal. min.</th>\n",
       "    </tr>\n",
       "  </thead>\n",
       "  <tbody>\n",
       "    <tr>\n",
       "      <th>0</th>\n",
       "      <td>11</td>\n",
       "      <td>Não</td>\n",
       "      <td>2.0</td>\n",
       "      <td>NaN</td>\n",
       "      <td>NaN</td>\n",
       "      <td>Sim</td>\n",
       "      <td>Não</td>\n",
       "      <td>0.5 a 1 min</td>\n",
       "    </tr>\n",
       "    <tr>\n",
       "      <th>1</th>\n",
       "      <td>11</td>\n",
       "      <td>Sim</td>\n",
       "      <td>2.0</td>\n",
       "      <td>Não</td>\n",
       "      <td>Sim</td>\n",
       "      <td>Sim</td>\n",
       "      <td>Não</td>\n",
       "      <td>1 a 2 min</td>\n",
       "    </tr>\n",
       "    <tr>\n",
       "      <th>2</th>\n",
       "      <td>11</td>\n",
       "      <td>Não</td>\n",
       "      <td>4.0</td>\n",
       "      <td>NaN</td>\n",
       "      <td>NaN</td>\n",
       "      <td>Sim</td>\n",
       "      <td>Sim</td>\n",
       "      <td>0.5 a 1 min</td>\n",
       "    </tr>\n",
       "    <tr>\n",
       "      <th>3</th>\n",
       "      <td>11</td>\n",
       "      <td>Sim</td>\n",
       "      <td>2.0</td>\n",
       "      <td>Sim</td>\n",
       "      <td>Sim</td>\n",
       "      <td>Sim</td>\n",
       "      <td>Sim</td>\n",
       "      <td>2 a 3 min</td>\n",
       "    </tr>\n",
       "    <tr>\n",
       "      <th>4</th>\n",
       "      <td>11</td>\n",
       "      <td>Sim</td>\n",
       "      <td>2.0</td>\n",
       "      <td>Sim</td>\n",
       "      <td>Sim</td>\n",
       "      <td>Sim</td>\n",
       "      <td>Não</td>\n",
       "      <td>1 a 2 min</td>\n",
       "    </tr>\n",
       "  </tbody>\n",
       "</table>\n",
       "</div>"
      ],
      "text/plain": [
       "   UF Internet/Dom  Celular Web no Cel. Web no PC. TV cores TV assinatura  \\\n",
       "0  11          Não      2.0         NaN        NaN      Sim           Não   \n",
       "1  11          Sim      2.0         Não        Sim      Sim           Não   \n",
       "2  11          Não      4.0         NaN        NaN      Sim           Sim   \n",
       "3  11          Sim      2.0         Sim        Sim      Sim           Sim   \n",
       "4  11          Sim      2.0         Sim        Sim      Sim           Não   \n",
       "\n",
       "  Rend. men. per/cap sal. min.  \n",
       "0                  0.5 a 1 min  \n",
       "1                    1 a 2 min  \n",
       "2                  0.5 a 1 min  \n",
       "3                    2 a 3 min  \n",
       "4                    1 a 2 min  "
      ]
     },
     "execution_count": 17,
     "metadata": {},
     "output_type": "execute_result"
    }
   ],
   "source": [
    "pnad14_dataframe= pd.DataFrame(pnad14.loc[:, [\"UF\", \"V02322\",\"V0220\", \"V02324\", \"V02323\", \"V0226\", \"V02272\", \"V4622\"]])\n",
    "pnad14_dataframe.columns = [\"UF\", \"Internet/Dom\", \"Celular\", \"Web no Cel.\", \"Web no PC.\", \"TV cores\", \"TV assinatura\",\"Rend. men. per/cap sal. min.\"]\n",
    "pnad14_dataframe.head()"
   ]
  },
  {
   "cell_type": "code",
   "execution_count": 18,
   "metadata": {},
   "outputs": [
    {
     "data": {
      "text/html": [
       "<div>\n",
       "<style>\n",
       "    .dataframe thead tr:only-child th {\n",
       "        text-align: right;\n",
       "    }\n",
       "\n",
       "    .dataframe thead th {\n",
       "        text-align: left;\n",
       "    }\n",
       "\n",
       "    .dataframe tbody tr th {\n",
       "        vertical-align: top;\n",
       "    }\n",
       "</style>\n",
       "<table border=\"1\" class=\"dataframe\">\n",
       "  <thead>\n",
       "    <tr style=\"text-align: right;\">\n",
       "      <th></th>\n",
       "      <th>UF</th>\n",
       "      <th>Internet/Dom</th>\n",
       "      <th>Celular</th>\n",
       "      <th>Web no Cel.</th>\n",
       "      <th>Web no PC.</th>\n",
       "      <th>TV cores</th>\n",
       "      <th>TV assinatura</th>\n",
       "      <th>Rend. men. per/cap sal. mín.</th>\n",
       "    </tr>\n",
       "  </thead>\n",
       "  <tbody>\n",
       "    <tr>\n",
       "      <th>0</th>\n",
       "      <td>Rondônia</td>\n",
       "      <td>Não</td>\n",
       "      <td>2.0</td>\n",
       "      <td>NaN</td>\n",
       "      <td>NaN</td>\n",
       "      <td>Sim</td>\n",
       "      <td>Não</td>\n",
       "      <td>4.0</td>\n",
       "    </tr>\n",
       "    <tr>\n",
       "      <th>1</th>\n",
       "      <td>Rondônia</td>\n",
       "      <td>NaN</td>\n",
       "      <td>NaN</td>\n",
       "      <td>NaN</td>\n",
       "      <td>NaN</td>\n",
       "      <td>NaN</td>\n",
       "      <td>NaN</td>\n",
       "      <td>NaN</td>\n",
       "    </tr>\n",
       "    <tr>\n",
       "      <th>2</th>\n",
       "      <td>Rondônia</td>\n",
       "      <td>Sim</td>\n",
       "      <td>2.0</td>\n",
       "      <td>Não</td>\n",
       "      <td>Sim</td>\n",
       "      <td>Não</td>\n",
       "      <td>NaN</td>\n",
       "      <td>4.0</td>\n",
       "    </tr>\n",
       "    <tr>\n",
       "      <th>3</th>\n",
       "      <td>Rondônia</td>\n",
       "      <td>Sim</td>\n",
       "      <td>2.0</td>\n",
       "      <td>Sim</td>\n",
       "      <td>Sim</td>\n",
       "      <td>Sim</td>\n",
       "      <td>Não</td>\n",
       "      <td>4.0</td>\n",
       "    </tr>\n",
       "    <tr>\n",
       "      <th>4</th>\n",
       "      <td>Rondônia</td>\n",
       "      <td>Não</td>\n",
       "      <td>2.0</td>\n",
       "      <td>NaN</td>\n",
       "      <td>NaN</td>\n",
       "      <td>Não</td>\n",
       "      <td>NaN</td>\n",
       "      <td>6.0</td>\n",
       "    </tr>\n",
       "  </tbody>\n",
       "</table>\n",
       "</div>"
      ],
      "text/plain": [
       "         UF Internet/Dom  Celular Web no Cel. Web no PC. TV cores  \\\n",
       "0  Rondônia          Não      2.0         NaN        NaN      Sim   \n",
       "1  Rondônia          NaN      NaN         NaN        NaN      NaN   \n",
       "2  Rondônia          Sim      2.0         Não        Sim      Não   \n",
       "3  Rondônia          Sim      2.0         Sim        Sim      Sim   \n",
       "4  Rondônia          Não      2.0         NaN        NaN      Não   \n",
       "\n",
       "  TV assinatura Rend. men. per/cap sal. mín.  \n",
       "0           Não                          4.0  \n",
       "1           NaN                          NaN  \n",
       "2           NaN                          4.0  \n",
       "3           Não                          4.0  \n",
       "4           NaN                          6.0  "
      ]
     },
     "execution_count": 18,
     "metadata": {},
     "output_type": "execute_result"
    }
   ],
   "source": [
    "pnad15_dataframe= pd.DataFrame(pnad15.loc[:, [\"UF\", \"V02322\",\"V0220\", \"V02324\", \"V02323\", \"V0226\", \"V02272\", \"V4622\"]])\n",
    "pnad15_dataframe.columns = [\"UF\", \"Internet/Dom\", \"Celular\", \"Web no Cel.\", \"Web no PC.\", \"TV cores\", \"TV assinatura\", \"Rend. men. per/cap sal. mín.\"]\n",
    "pnad15_dataframe.head()"
   ]
  },
  {
   "cell_type": "code",
   "execution_count": 19,
   "metadata": {
    "scrolled": false
   },
   "outputs": [
    {
     "data": {
      "image/png": "[encoded data removed]",
      "text/plain": [
       "<matplotlib.figure.Figure at 0x22bc8556668>"
      ]
     },
     "metadata": {},
     "output_type": "display_data"
    }
   ],
   "source": [
    "fig = plt.figure(figsize=(15, 5))\n",
    "plt.subplot(131)\n",
    "pnad13.V02322.value_counts().reindex([\"Sim\",  \"Não\"])\n",
    "plot = pnad13.V02322.value_counts().plot(kind='pie', colors=('red', 'blue'), autopct=\"%0.1f\",legend=False)\n",
    "\n",
    "plt.subplot(132)\n",
    "pnad14.V02322.value_counts().reindex([\"Sim\",  \"Não\"])\n",
    "plot = pnad14.V02322.value_counts().plot(kind='pie', colors=('blue', 'red'), autopct=\"%0.1f\",legend=False)\n",
    "\n",
    "plt.subplot(133)\n",
    "pnad15.V02322.value_counts().reindex([\"Sim\",  \"Não\"])\n",
    "plot = pnad15.V02322.value_counts().plot(kind='pie', colors=('blue', 'red'), autopct=\"%0.1f\",legend=False)"
   ]
  },
  {
   "cell_type": "code",
   "execution_count": 20,
   "metadata": {
    "collapsed": true
   },
   "outputs": [],
   "source": [
    "pnad13.loc[(pnad13.UF==11)|(pnad13.UF==12)|(pnad13.UF==13)|(pnad13.UF==14)|(pnad13.UF==15)|(pnad13.UF==16)|(pnad13.UF==17), 'REGIAO']='Norte'\n",
    "pnad13.loc[(pnad13.UF==21)|(pnad13.UF==22)|(pnad13.UF==23)|(pnad13.UF==24)|(pnad13.UF==25)|(pnad13.UF==26)|(pnad13.UF==27)|(pnad13.UF==28)|(pnad13.UF==29), 'REGIAO']='Nordeste'\n",
    "pnad13.loc[(pnad13.UF==31)|(pnad13.UF==32)|(pnad13.UF==33)|(pnad13.UF==35), 'REGIAO']='Sudeste'\n",
    "pnad13.loc[(pnad13.UF==41)|(pnad13.UF==42)|(pnad13.UF==43), 'REGIAO']='Sul'\n",
    "pnad13.loc[(pnad13.UF==50)|(pnad13.UF==51)|(pnad13.UF==52)|(pnad13.UF==53), 'REGIAO']='Centro-Oeste'\n",
    "\n",
    "pnad14.loc[(pnad14.UF==11)|(pnad14.UF==12)|(pnad14.UF==13)|(pnad14.UF==14)|(pnad14.UF==15)|(pnad14.UF==16)|(pnad14.UF==17), 'REGIAO']='Norte'\n",
    "pnad14.loc[(pnad14.UF==21)|(pnad14.UF==22)|(pnad14.UF==23)|(pnad14.UF==24)|(pnad14.UF==25)|(pnad14.UF==26)|(pnad14.UF==27)|(pnad14.UF==28)|(pnad14.UF==29), 'REGIAO']='Nordeste'\n",
    "pnad14.loc[(pnad14.UF==31)|(pnad14.UF==32)|(pnad14.UF==33)|(pnad14.UF==35), 'REGIAO']='Sudeste'\n",
    "pnad14.loc[(pnad14.UF==41)|(pnad14.UF==42)|(pnad14.UF==43), 'REGIAO']='Sul'\n",
    "pnad14.loc[(pnad14.UF==50)|(pnad14.UF==51)|(pnad14.UF==52)|(pnad14.UF==53), 'REGIAO']='Centro-Oeste'\n",
    "\n",
    "pnad15.loc[(pnad15.UF==11)|(pnad15.UF==12)|(pnad15.UF==13)|(pnad15.UF==14)|(pnad15.UF==15)|(pnad15.UF==16)|(pnad15.UF==17), 'REGIAO']='Norte'\n",
    "pnad13.loc[(pnad15.UF==21)|(pnad15.UF==22)|(pnad15.UF==23)|(pnad15.UF==24)|(pnad15.UF==25)|(pnad15.UF==26)|(pnad15.UF==27)|(pnad15.UF==28)|(pnad15.UF==29), 'REGIAO']='Nordeste'\n",
    "pnad15.loc[(pnad15.UF==31)|(pnad15.UF==32)|(pnad15.UF==33)|(pnad15.UF==35), 'REGIAO']='Sudeste'\n",
    "pnad13.loc[(pnad15.UF==41)|(pnad15.UF==42)|(pnad15.UF==43), 'REGIAO']='Sul'\n",
    "pnad15.loc[(pnad15.UF==50)|(pnad15.UF==51)|(pnad15.UF==52)|(pnad15.UF==53), 'REGIAO']='Centro-Oeste'"
   ]
  },
  {
   "cell_type": "code",
   "execution_count": 21,
   "metadata": {
    "scrolled": true
   },
   "outputs": [
    {
     "data": {
      "text/plain": [
       "Sudeste         0.301042\n",
       "Nordeste        0.286643\n",
       "Sul             0.162155\n",
       "Norte           0.142700\n",
       "Centro-Oeste    0.107460\n",
       "Name: REGIAO, dtype: float64"
      ]
     },
     "execution_count": 21,
     "metadata": {},
     "output_type": "execute_result"
    }
   ],
   "source": [
    "pnad13.REGIAO.value_counts(True)"
   ]
  },
  {
   "cell_type": "code",
   "execution_count": 22,
   "metadata": {
    "scrolled": true
   },
   "outputs": [
    {
     "data": {
      "image/png": "[encoded data removed]",
      "text/plain": [
       "<matplotlib.figure.Figure at 0x22bc8ab3278>"
      ]
     },
     "metadata": {},
     "output_type": "display_data"
    }
   ],
   "source": [
    "ct=pd.crosstab(pnad13.REGIAO, pnad13.V02322,margins=True, rownames=['ESTADO'], colnames=['INTERNET'], normalize=True)*100\n",
    "ct.loc[['Rondônia', 'Acre', 'Amazonas', 'Roraima', 'Pará', 'Amapá', 'Tocantins', 'Maranhão', 'Piauí', 'Ceará', 'Rio Grande do Norte', 'Paraíba', 'Pernambuco', 'Alagoas', 'Sergipe', 'Bahia', 'Minas Gerais', 'Espírito Santo', 'Rio de Janeiro', 'São Paulo', 'Paraná', 'Santa Catarina', 'Rio Grande do Sul', 'Mato Grosso do Sul', 'Mato Grosso', 'Goiás', 'Distrito Federal', 'All']]\n",
    "ctplot = ct.iloc[0:5].plot(kind='bar')\n"
   ]
  },
  {
   "cell_type": "code",
   "execution_count": 24,
   "metadata": {},
   "outputs": [],
   "source": [
    "pnad13_dataframe.to_excel(\"CDD13V1.xlsx\")\n",
    "pnad14_dataframe.to_excel(\"CDD14V1.xlsx\")\n",
    "pnad15_dataframe.to_excel(\"CDD15V1.xlsx\")"
   ]
  },
  {
   "cell_type": "code",
   "execution_count": null,
   "metadata": {},
   "outputs": [],
   "source": [
    "''' pnad15.V0220=pnad15.V0220.astype('category')\n",
    "pnad15.V0220.cat.categories=(['Sim', 'Não'])\n",
    "pnad15.V0220\n",
    "pnad13.REGIAO.value_counts()\n",
    "\n",
    "a=pnad13.REGIAO\n",
    "l = []\n",
    "for i in a:\n",
    "    if i not in l:\n",
    "        l.append(i)\n",
    "\n",
    "print(sum(l))\n",
    "print(l) '''\n",
    "\n"
   ]
  },
  {
   "cell_type": "code",
   "execution_count": null,
   "metadata": {},
   "outputs": [],
   "source": [
    "'''j = pnad15.loc[pnad15.UF==\"Rondônia\",['V0220']]\n",
    "j.V0220.value_counts(True)'''"
   ]
  },
  {
   "cell_type": "code",
   "execution_count": null,
   "metadata": {
    "collapsed": true
   },
   "outputs": [],
   "source": []
  },
  {
   "cell_type": "markdown",
   "metadata": {},
   "source": [
    "___\n",
    "## Conclusão "
   ]
  },
  {
   "cell_type": "markdown",
   "metadata": {
    "collapsed": true
   },
   "source": [
    "Descreva aqui suas conclusões!\n",
    "\n",
    "#METODO APPLY\n"
   ]
  },
  {
   "cell_type": "code",
   "execution_count": null,
   "metadata": {
    "collapsed": true
   },
   "outputs": [],
   "source": []
  }
 ],
 "metadata": {
  "anaconda-cloud": {},
  "kernelspec": {
   "display_name": "Python 3",
   "language": "python",
   "name": "python3"
  },
  "language_info": {
   "codemirror_mode": {
    "name": "ipython",
    "version": 3
   },
   "file_extension": ".py",
   "mimetype": "text/x-python",
   "name": "python",
   "nbconvert_exporter": "python",
   "pygments_lexer": "ipython3",
   "version": "3.6.1"
  }
 },
 "nbformat": 4,
 "nbformat_minor": 1
}
